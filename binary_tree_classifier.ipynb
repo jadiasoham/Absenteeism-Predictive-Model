{
 "cells": [
  {
   "cell_type": "code",
   "execution_count": 2,
   "metadata": {},
   "outputs": [],
   "source": [
    "import pandas as pd\n",
    "import numpy as np\n",
    "from sklearn.model_selection import train_test_split\n",
    "from sklearn.metrics import f1_score, recall_score, confusion_matrix, classification_report, precision_score, precision_recall_curve\n",
    "from sklearn.ensemble import RandomForestClassifier\n",
    "from sklearn.model_selection import GridSearchCV\n",
    "from sklearn.preprocessing import StandardScaler\n",
    "from imblearn.over_sampling import SMOTE\n",
    "from matplotlib import pyplot as plt\n",
    "import seaborn as sns\n",
    "sns.set_theme('notebook')"
   ]
  },
  {
   "cell_type": "code",
   "execution_count": 4,
   "metadata": {},
   "outputs": [
    {
     "data": {
      "text/html": [
       "<div>\n",
       "<style scoped>\n",
       "    .dataframe tbody tr th:only-of-type {\n",
       "        vertical-align: middle;\n",
       "    }\n",
       "\n",
       "    .dataframe tbody tr th {\n",
       "        vertical-align: top;\n",
       "    }\n",
       "\n",
       "    .dataframe thead th {\n",
       "        text-align: right;\n",
       "    }\n",
       "</style>\n",
       "<table border=\"1\" class=\"dataframe\">\n",
       "  <thead>\n",
       "    <tr style=\"text-align: right;\">\n",
       "      <th></th>\n",
       "      <th>Reason_1</th>\n",
       "      <th>Reason_2</th>\n",
       "      <th>Reason_3</th>\n",
       "      <th>Reason_4</th>\n",
       "      <th>Month Value</th>\n",
       "      <th>Day of the Week</th>\n",
       "      <th>Transportation Expense</th>\n",
       "      <th>Distance to Work</th>\n",
       "      <th>Age</th>\n",
       "      <th>Daily Work Load Average</th>\n",
       "      <th>Body Mass Index</th>\n",
       "      <th>Education</th>\n",
       "      <th>Children</th>\n",
       "      <th>Pets</th>\n",
       "      <th>Excessive Absenteeism</th>\n",
       "    </tr>\n",
       "  </thead>\n",
       "  <tbody>\n",
       "    <tr>\n",
       "      <th>0</th>\n",
       "      <td>0</td>\n",
       "      <td>0</td>\n",
       "      <td>0</td>\n",
       "      <td>1</td>\n",
       "      <td>7</td>\n",
       "      <td>1</td>\n",
       "      <td>289</td>\n",
       "      <td>36</td>\n",
       "      <td>33</td>\n",
       "      <td>239.554</td>\n",
       "      <td>30</td>\n",
       "      <td>0</td>\n",
       "      <td>2</td>\n",
       "      <td>1</td>\n",
       "      <td>1</td>\n",
       "    </tr>\n",
       "    <tr>\n",
       "      <th>1</th>\n",
       "      <td>0</td>\n",
       "      <td>0</td>\n",
       "      <td>0</td>\n",
       "      <td>0</td>\n",
       "      <td>7</td>\n",
       "      <td>1</td>\n",
       "      <td>118</td>\n",
       "      <td>13</td>\n",
       "      <td>50</td>\n",
       "      <td>239.554</td>\n",
       "      <td>31</td>\n",
       "      <td>0</td>\n",
       "      <td>1</td>\n",
       "      <td>0</td>\n",
       "      <td>0</td>\n",
       "    </tr>\n",
       "    <tr>\n",
       "      <th>2</th>\n",
       "      <td>0</td>\n",
       "      <td>0</td>\n",
       "      <td>0</td>\n",
       "      <td>1</td>\n",
       "      <td>7</td>\n",
       "      <td>2</td>\n",
       "      <td>179</td>\n",
       "      <td>51</td>\n",
       "      <td>38</td>\n",
       "      <td>239.554</td>\n",
       "      <td>31</td>\n",
       "      <td>0</td>\n",
       "      <td>0</td>\n",
       "      <td>0</td>\n",
       "      <td>0</td>\n",
       "    </tr>\n",
       "    <tr>\n",
       "      <th>3</th>\n",
       "      <td>1</td>\n",
       "      <td>0</td>\n",
       "      <td>0</td>\n",
       "      <td>0</td>\n",
       "      <td>7</td>\n",
       "      <td>3</td>\n",
       "      <td>279</td>\n",
       "      <td>5</td>\n",
       "      <td>39</td>\n",
       "      <td>239.554</td>\n",
       "      <td>24</td>\n",
       "      <td>0</td>\n",
       "      <td>2</td>\n",
       "      <td>0</td>\n",
       "      <td>1</td>\n",
       "    </tr>\n",
       "    <tr>\n",
       "      <th>4</th>\n",
       "      <td>0</td>\n",
       "      <td>0</td>\n",
       "      <td>0</td>\n",
       "      <td>1</td>\n",
       "      <td>7</td>\n",
       "      <td>3</td>\n",
       "      <td>289</td>\n",
       "      <td>36</td>\n",
       "      <td>33</td>\n",
       "      <td>239.554</td>\n",
       "      <td>30</td>\n",
       "      <td>0</td>\n",
       "      <td>2</td>\n",
       "      <td>1</td>\n",
       "      <td>0</td>\n",
       "    </tr>\n",
       "  </tbody>\n",
       "</table>\n",
       "</div>"
      ],
      "text/plain": [
       "   Reason_1  Reason_2  Reason_3  Reason_4  Month Value  Day of the Week  \\\n",
       "0         0         0         0         1            7                1   \n",
       "1         0         0         0         0            7                1   \n",
       "2         0         0         0         1            7                2   \n",
       "3         1         0         0         0            7                3   \n",
       "4         0         0         0         1            7                3   \n",
       "\n",
       "   Transportation Expense  Distance to Work  Age  Daily Work Load Average  \\\n",
       "0                     289                36   33                  239.554   \n",
       "1                     118                13   50                  239.554   \n",
       "2                     179                51   38                  239.554   \n",
       "3                     279                 5   39                  239.554   \n",
       "4                     289                36   33                  239.554   \n",
       "\n",
       "   Body Mass Index  Education  Children  Pets  Excessive Absenteeism  \n",
       "0               30          0         2     1                      1  \n",
       "1               31          0         1     0                      0  \n",
       "2               31          0         0     0                      0  \n",
       "3               24          0         2     0                      1  \n",
       "4               30          0         2     1                      0  "
      ]
     },
     "execution_count": 4,
     "metadata": {},
     "output_type": "execute_result"
    }
   ],
   "source": [
    "file_path = r\".csv/Absenteeism_preprocessed_data.csv\"\n",
    "data = pd.read_csv(file_path)\n",
    "data.head()"
   ]
  },
  {
   "cell_type": "code",
   "execution_count": 5,
   "metadata": {},
   "outputs": [
    {
     "data": {
      "text/plain": [
       "(     Reason_1  Reason_2  Reason_3  Reason_4  Month Value  Day of the Week  \\\n",
       " 0           0         0         0         1            7                1   \n",
       " 1           0         0         0         0            7                1   \n",
       " 2           0         0         0         1            7                2   \n",
       " 3           1         0         0         0            7                3   \n",
       " 4           0         0         0         1            7                3   \n",
       " ..        ...       ...       ...       ...          ...              ...   \n",
       " 695         1         0         0         0            5                2   \n",
       " 696         1         0         0         0            5                2   \n",
       " 697         1         0         0         0            5                3   \n",
       " 698         0         0         0         1            5                3   \n",
       " 699         0         0         0         1            5                3   \n",
       " \n",
       "      Transportation Expense  Distance to Work  Age  Daily Work Load Average  \\\n",
       " 0                       289                36   33                  239.554   \n",
       " 1                       118                13   50                  239.554   \n",
       " 2                       179                51   38                  239.554   \n",
       " 3                       279                 5   39                  239.554   \n",
       " 4                       289                36   33                  239.554   \n",
       " ..                      ...               ...  ...                      ...   \n",
       " 695                     179                22   40                  237.656   \n",
       " 696                     225                26   28                  237.656   \n",
       " 697                     330                16   28                  237.656   \n",
       " 698                     235                16   32                  237.656   \n",
       " 699                     291                31   40                  237.656   \n",
       " \n",
       "      Body Mass Index  Education  Children  Pets  \n",
       " 0                 30          0         2     1  \n",
       " 1                 31          0         1     0  \n",
       " 2                 31          0         0     0  \n",
       " 3                 24          0         2     0  \n",
       " 4                 30          0         2     1  \n",
       " ..               ...        ...       ...   ...  \n",
       " 695               22          1         2     0  \n",
       " 696               24          0         1     2  \n",
       " 697               25          1         0     0  \n",
       " 698               25          1         0     0  \n",
       " 699               25          0         1     1  \n",
       " \n",
       " [700 rows x 14 columns],\n",
       " 0      1\n",
       " 1      0\n",
       " 2      0\n",
       " 3      1\n",
       " 4      0\n",
       "       ..\n",
       " 695    1\n",
       " 696    0\n",
       " 697    1\n",
       " 698    0\n",
       " 699    0\n",
       " Name: Excessive Absenteeism, Length: 700, dtype: int64)"
      ]
     },
     "execution_count": 5,
     "metadata": {},
     "output_type": "execute_result"
    }
   ],
   "source": [
    "X = data.iloc[:, :-1]\n",
    "y = data.iloc[:, -1]\n",
    "X, y"
   ]
  },
  {
   "cell_type": "code",
   "execution_count": 9,
   "metadata": {},
   "outputs": [],
   "source": [
    "X_train, X_test, y_train, y_test = train_test_split(X, y, test_size= 0.2, random_state= 42, stratify= y)"
   ]
  },
  {
   "cell_type": "code",
   "execution_count": 13,
   "metadata": {},
   "outputs": [
    {
     "name": "stderr",
     "output_type": "stream",
     "text": [
      "[Parallel(n_jobs=1)]: Done  49 tasks      | elapsed:    0.0s\n"
     ]
    }
   ],
   "source": [
    "rfc = RandomForestClassifier(random_state= 42, class_weight= 'balanced', verbose= 1)\n",
    "\n",
    "param_grid = {\n",
    "    'n_estimators': [50, 100, 200],\n",
    "    'max_depth': [None, 10, 20, 30]\n",
    "}\n",
    "\n",
    "grid_search_rf = GridSearchCV(rfc, param_grid= param_grid, cv= 5, n_jobs= 2, scoring= 'f1')\n",
    "grid_search_rf.fit(X_train, y_train)\n",
    "\n",
    "best_model = grid_search_rf.best_estimator_"
   ]
  },
  {
   "cell_type": "code",
   "execution_count": 15,
   "metadata": {},
   "outputs": [
    {
     "name": "stdout",
     "output_type": "stream",
     "text": [
      "F1 Score: 0.7536231884057971\n",
      "Confusion Matrix:\n",
      " [[54 22]\n",
      " [12 52]]\n",
      "Classification Report:\n",
      "               precision    recall  f1-score   support\n",
      "\n",
      "           0       0.82      0.71      0.76        76\n",
      "           1       0.70      0.81      0.75        64\n",
      "\n",
      "    accuracy                           0.76       140\n",
      "   macro avg       0.76      0.76      0.76       140\n",
      "weighted avg       0.77      0.76      0.76       140\n",
      "\n",
      "Recall Score: 0.8125\n",
      "Precision Score: 0.7027027027027027\n"
     ]
    },
    {
     "name": "stderr",
     "output_type": "stream",
     "text": [
      "[Parallel(n_jobs=1)]: Done  49 tasks      | elapsed:    0.0s\n"
     ]
    }
   ],
   "source": [
    "y_pred_rf = best_model.predict(X_test)\n",
    "print(f\"F1 Score: {f1_score(y_test, y_pred_rf)}\")\n",
    "print(f\"Confusion Matrix:\\n {confusion_matrix(y_test, y_pred_rf)}\")\n",
    "print(f\"Classification Report:\\n {classification_report(y_test, y_pred_rf)}\")\n",
    "print(f\"Recall Score: {recall_score(y_test, y_pred_rf)}\")\n",
    "print(f\"Precision Score: {precision_score(y_test, y_pred_rf)}\")"
   ]
  },
  {
   "cell_type": "code",
   "execution_count": 16,
   "metadata": {},
   "outputs": [
    {
     "data": {
      "image/png": "[encoded data removed]",
      "text/plain": [
       "<Figure size 640x480 with 2 Axes>"
      ]
     },
     "metadata": {},
     "output_type": "display_data"
    }
   ],
   "source": [
    "sns.heatmap(confusion_matrix(y_test, y_pred_rf), annot=True, fmt='d', cmap='Blues')\n",
    "plt.title('Confusion Matrix')\n",
    "plt.show()"
   ]
  },
  {
   "cell_type": "code",
   "execution_count": 22,
   "metadata": {},
   "outputs": [
    {
     "data": {
      "image/png": "[encoded data removed]",
      "text/plain": [
       "<Figure size 640x480 with 1 Axes>"
      ]
     },
     "metadata": {},
     "output_type": "display_data"
    }
   ],
   "source": [
    "precision_values, recall_values, _ = precision_recall_curve(y_test, y_pred_rf)\n",
    "\n",
    "plt.figure()\n",
    "plt.plot(recall_values, precision_values, marker='.', label='Coefficients')\n",
    "plt.xlabel('Recall')\n",
    "plt.xlim((0.0, 1.025))\n",
    "plt.ylabel('Precision')\n",
    "plt.ylim((0.0, 1.025))\n",
    "plt.title('Precision-Recall Curve')\n",
    "plt.legend()\n",
    "plt.show()"
   ]
  },
  {
   "cell_type": "markdown",
   "metadata": {},
   "source": [
    "### Key Metrics\n",
    "\n",
    "1. **F1 Score**:\n",
    "   - The overall F1 score is \\( 0.7536 \\). This indicates a balance between precision and recall, showing the model's effectiveness in both capturing positive cases and maintaining correct positive predictions.\n",
    "\n",
    "2. **Confusion Matrix**:\n",
    "   - \\[\n",
    "     \\begin{array}{cc}\n",
    "     & \\text{Predicted} \\\\\n",
    "     & 0 & 1 \\\\\n",
    "     \\text{Actual} & \\begin{bmatrix}\n",
    "     54 & 22 \\\\\n",
    "     12 & 52 \\\\\n",
    "     \\end{bmatrix}\n",
    "     \\end{array}\n",
    "     \\]\n",
    "   - **True Positives (TP)**: 52\n",
    "   - **True Negatives (TN)**: 54\n",
    "   - **False Positives (FP)**: 22\n",
    "   - **False Negatives (FN)**: 12\n",
    "\n",
    "3. **Classification Report**:\n",
    "   - **Class 0** (Negative class):\n",
    "     - Precision: 0.82\n",
    "     - Recall: 0.71\n",
    "     - F1-score: 0.76\n",
    "   - **Class 1** (Positive class):\n",
    "     - Precision: 0.70\n",
    "     - Recall: 0.81\n",
    "     - F1-score: 0.75\n",
    "   - **Accuracy**: 0.76\n",
    "   - **Macro Average**: Precision = 0.76, Recall = 0.76, F1-score = 0.76\n",
    "   - **Weighted Average**: Precision = 0.77, Recall = 0.76, F1-score = 0.76\n",
    "\n",
    "4. **Recall Score**: 0.8125 (Specific to the positive class, i.e., class 1)\n",
    "5. **Precision Score**: 0.7027 (Specific to the positive class, i.e., class 1)\n",
    "\n",
    "### Interpretation\n",
    "\n",
    "1. **Model Performance**:\n",
    "   - The model has a good balance between precision and recall, as indicated by the overall F1 score.\n",
    "   - The slightly higher recall (0.81 for class 1) suggests that the model is better at capturing most of the actual positive cases, even if it means predicting some false positives.\n",
    "   - The precision for class 1 (0.70) indicates that when the model predicts a positive case, it is correct 70% of the time.\n",
    "\n",
    "2. **Confusion Matrix Insights**:\n",
    "   - The model correctly identified 54 out of 76 actual negatives (71%) and 52 out of 64 actual positives (81%).\n",
    "   - There are more false positives (22) than false negatives (12), suggesting the model is slightly biased towards predicting positive cases.\n",
    "\n",
    "3. **Class-wise Performance**:\n",
    "   - **Class 0** (Negative class) has higher precision (0.82) but lower recall (0.71). This means the model is good at correctly identifying negatives but misses some negatives.\n",
    "   - **Class 1** (Positive class) has higher recall (0.81) but lower precision (0.70). This means the model is good at identifying most positives but includes some false positives.\n",
    "\n",
    "### Recommendations\n",
    "\n",
    "1. **Threshold Adjustment**:\n",
    "   - You might consider adjusting the decision threshold to find a better balance between precision and recall if your application has specific needs (e.g., more tolerance for false positives or false negatives).\n",
    "\n",
    "2. **Further Evaluation**:\n",
    "   - Evaluate the impact of false positives and false negatives in your specific context to decide whether the current balance is acceptable.\n",
    "\n",
    "3. **Model Improvement**:\n",
    "   - Explore additional features or more complex models to potentially improve the precision and recall further.\n",
    "\n",
    "4. **Cross-Validation**:\n",
    "   - Ensure that cross-validation is used to confirm that these results are consistent across different subsets of the data.\n",
    "\n",
    "By analyzing these metrics and considering the context of your application, you can better understand how well your model is performing and what steps might be needed to improve it. If you have specific goals or constraints, adjusting your model accordingly will help achieve optimal performance."
   ]
  },
  {
   "cell_type": "markdown",
   "metadata": {},
   "source": []
  }
 ],
 "metadata": {
  "kernelspec": {
   "display_name": "Python 3",
   "language": "python",
   "name": "python3"
  },
  "language_info": {
   "codemirror_mode": {
    "name": "ipython",
    "version": 3
   },
   "file_extension": ".py",
   "mimetype": "text/x-python",
   "name": "python",
   "nbconvert_exporter": "python",
   "pygments_lexer": "ipython3",
   "version": "3.12.3"
  }
 },
 "nbformat": 4,
 "nbformat_minor": 2
}
